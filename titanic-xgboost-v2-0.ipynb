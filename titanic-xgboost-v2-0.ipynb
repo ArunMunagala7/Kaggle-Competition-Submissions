{
 "cells": [
  {
   "cell_type": "code",
   "execution_count": 1,
   "id": "abb63ab3",
   "metadata": {
    "_cell_guid": "b1076dfc-b9ad-4769-8c92-a6c4dae69d19",
    "_uuid": "8f2839f25d086af736a60e9eeb907d3b93b6e0e5",
    "execution": {
     "iopub.execute_input": "2022-12-29T12:33:37.408761Z",
     "iopub.status.busy": "2022-12-29T12:33:37.407825Z",
     "iopub.status.idle": "2022-12-29T12:33:37.424036Z",
     "shell.execute_reply": "2022-12-29T12:33:37.422787Z"
    },
    "papermill": {
     "duration": 0.027316,
     "end_time": "2022-12-29T12:33:37.427581",
     "exception": false,
     "start_time": "2022-12-29T12:33:37.400265",
     "status": "completed"
    },
    "tags": []
   },
   "outputs": [
    {
     "name": "stdout",
     "output_type": "stream",
     "text": [
      "/kaggle/input/titanic/train.csv\n",
      "/kaggle/input/titanic/test.csv\n",
      "/kaggle/input/titanic/gender_submission.csv\n"
     ]
    }
   ],
   "source": [
    "# This Python 3 environment comes with many helpful analytics libraries installed\n",
    "# It is defined by the kaggle/python Docker image: https://github.com/kaggle/docker-python\n",
    "# For example, here's several helpful packages to load\n",
    "\n",
    "import numpy as np # linear algebra\n",
    "import pandas as pd # data processing, CSV file I/O (e.g. pd.read_csv)\n",
    "\n",
    "# Input data files are available in the read-only \"../input/\" directory\n",
    "# For example, running this (by clicking run or pressing Shift+Enter) will list all files under the input directory\n",
    "\n",
    "import os\n",
    "for dirname, _, filenames in os.walk('/kaggle/input'):\n",
    "    for filename in filenames:\n",
    "        print(os.path.join(dirname, filename))\n",
    "\n",
    "# You can write up to 20GB to the current directory (/kaggle/working/) that gets preserved as output when you create a version using \"Save & Run All\" \n",
    "# You can also write temporary files to /kaggle/temp/, but they won't be saved outside of the current session"
   ]
  },
  {
   "cell_type": "markdown",
   "id": "9263f68c",
   "metadata": {
    "papermill": {
     "duration": 0.005209,
     "end_time": "2022-12-29T12:33:37.438067",
     "exception": false,
     "start_time": "2022-12-29T12:33:37.432858",
     "status": "completed"
    },
    "tags": []
   },
   "source": [
    "In this notebook, I'll be using basic XgBoost to get a more accurate Machine Learning Model"
   ]
  },
  {
   "cell_type": "markdown",
   "id": "7bee2c32",
   "metadata": {
    "papermill": {
     "duration": 0.003965,
     "end_time": "2022-12-29T12:33:37.446622",
     "exception": false,
     "start_time": "2022-12-29T12:33:37.442657",
     "status": "completed"
    },
    "tags": []
   },
   "source": [
    "uploading train data to a pandas dataframe\n"
   ]
  },
  {
   "cell_type": "code",
   "execution_count": 2,
   "id": "0526f54d",
   "metadata": {
    "execution": {
     "iopub.execute_input": "2022-12-29T12:33:37.458053Z",
     "iopub.status.busy": "2022-12-29T12:33:37.457306Z",
     "iopub.status.idle": "2022-12-29T12:33:37.509373Z",
     "shell.execute_reply": "2022-12-29T12:33:37.507671Z"
    },
    "papermill": {
     "duration": 0.062432,
     "end_time": "2022-12-29T12:33:37.513898",
     "exception": false,
     "start_time": "2022-12-29T12:33:37.451466",
     "status": "completed"
    },
    "tags": []
   },
   "outputs": [
    {
     "data": {
      "text/html": [
       "<div>\n",
       "<style scoped>\n",
       "    .dataframe tbody tr th:only-of-type {\n",
       "        vertical-align: middle;\n",
       "    }\n",
       "\n",
       "    .dataframe tbody tr th {\n",
       "        vertical-align: top;\n",
       "    }\n",
       "\n",
       "    .dataframe thead th {\n",
       "        text-align: right;\n",
       "    }\n",
       "</style>\n",
       "<table border=\"1\" class=\"dataframe\">\n",
       "  <thead>\n",
       "    <tr style=\"text-align: right;\">\n",
       "      <th></th>\n",
       "      <th>PassengerId</th>\n",
       "      <th>Survived</th>\n",
       "      <th>Pclass</th>\n",
       "      <th>Name</th>\n",
       "      <th>Sex</th>\n",
       "      <th>Age</th>\n",
       "      <th>SibSp</th>\n",
       "      <th>Parch</th>\n",
       "      <th>Ticket</th>\n",
       "      <th>Fare</th>\n",
       "      <th>Cabin</th>\n",
       "      <th>Embarked</th>\n",
       "    </tr>\n",
       "  </thead>\n",
       "  <tbody>\n",
       "    <tr>\n",
       "      <th>0</th>\n",
       "      <td>1</td>\n",
       "      <td>0</td>\n",
       "      <td>3</td>\n",
       "      <td>Braund, Mr. Owen Harris</td>\n",
       "      <td>male</td>\n",
       "      <td>22.0</td>\n",
       "      <td>1</td>\n",
       "      <td>0</td>\n",
       "      <td>A/5 21171</td>\n",
       "      <td>7.2500</td>\n",
       "      <td>NaN</td>\n",
       "      <td>S</td>\n",
       "    </tr>\n",
       "    <tr>\n",
       "      <th>1</th>\n",
       "      <td>2</td>\n",
       "      <td>1</td>\n",
       "      <td>1</td>\n",
       "      <td>Cumings, Mrs. John Bradley (Florence Briggs Th...</td>\n",
       "      <td>female</td>\n",
       "      <td>38.0</td>\n",
       "      <td>1</td>\n",
       "      <td>0</td>\n",
       "      <td>PC 17599</td>\n",
       "      <td>71.2833</td>\n",
       "      <td>C85</td>\n",
       "      <td>C</td>\n",
       "    </tr>\n",
       "    <tr>\n",
       "      <th>2</th>\n",
       "      <td>3</td>\n",
       "      <td>1</td>\n",
       "      <td>3</td>\n",
       "      <td>Heikkinen, Miss. Laina</td>\n",
       "      <td>female</td>\n",
       "      <td>26.0</td>\n",
       "      <td>0</td>\n",
       "      <td>0</td>\n",
       "      <td>STON/O2. 3101282</td>\n",
       "      <td>7.9250</td>\n",
       "      <td>NaN</td>\n",
       "      <td>S</td>\n",
       "    </tr>\n",
       "    <tr>\n",
       "      <th>3</th>\n",
       "      <td>4</td>\n",
       "      <td>1</td>\n",
       "      <td>1</td>\n",
       "      <td>Futrelle, Mrs. Jacques Heath (Lily May Peel)</td>\n",
       "      <td>female</td>\n",
       "      <td>35.0</td>\n",
       "      <td>1</td>\n",
       "      <td>0</td>\n",
       "      <td>113803</td>\n",
       "      <td>53.1000</td>\n",
       "      <td>C123</td>\n",
       "      <td>S</td>\n",
       "    </tr>\n",
       "    <tr>\n",
       "      <th>4</th>\n",
       "      <td>5</td>\n",
       "      <td>0</td>\n",
       "      <td>3</td>\n",
       "      <td>Allen, Mr. William Henry</td>\n",
       "      <td>male</td>\n",
       "      <td>35.0</td>\n",
       "      <td>0</td>\n",
       "      <td>0</td>\n",
       "      <td>373450</td>\n",
       "      <td>8.0500</td>\n",
       "      <td>NaN</td>\n",
       "      <td>S</td>\n",
       "    </tr>\n",
       "  </tbody>\n",
       "</table>\n",
       "</div>"
      ],
      "text/plain": [
       "   PassengerId  Survived  Pclass  \\\n",
       "0            1         0       3   \n",
       "1            2         1       1   \n",
       "2            3         1       3   \n",
       "3            4         1       1   \n",
       "4            5         0       3   \n",
       "\n",
       "                                                Name     Sex   Age  SibSp  \\\n",
       "0                            Braund, Mr. Owen Harris    male  22.0      1   \n",
       "1  Cumings, Mrs. John Bradley (Florence Briggs Th...  female  38.0      1   \n",
       "2                             Heikkinen, Miss. Laina  female  26.0      0   \n",
       "3       Futrelle, Mrs. Jacques Heath (Lily May Peel)  female  35.0      1   \n",
       "4                           Allen, Mr. William Henry    male  35.0      0   \n",
       "\n",
       "   Parch            Ticket     Fare Cabin Embarked  \n",
       "0      0         A/5 21171   7.2500   NaN        S  \n",
       "1      0          PC 17599  71.2833   C85        C  \n",
       "2      0  STON/O2. 3101282   7.9250   NaN        S  \n",
       "3      0            113803  53.1000  C123        S  \n",
       "4      0            373450   8.0500   NaN        S  "
      ]
     },
     "execution_count": 2,
     "metadata": {},
     "output_type": "execute_result"
    }
   ],
   "source": [
    "train_loc=\"/kaggle/input/titanic/train.csv\"\n",
    "train_data=pd.read_csv(train_loc)\n",
    "train_data.head()"
   ]
  },
  {
   "cell_type": "markdown",
   "id": "cbddcab9",
   "metadata": {
    "papermill": {
     "duration": 0.004692,
     "end_time": "2022-12-29T12:33:37.524116",
     "exception": false,
     "start_time": "2022-12-29T12:33:37.519424",
     "status": "completed"
    },
    "tags": []
   },
   "source": [
    "now train data has been uploaded. Same must be done for test data"
   ]
  },
  {
   "cell_type": "code",
   "execution_count": 3,
   "id": "c1226a68",
   "metadata": {
    "execution": {
     "iopub.execute_input": "2022-12-29T12:33:37.537306Z",
     "iopub.status.busy": "2022-12-29T12:33:37.536195Z",
     "iopub.status.idle": "2022-12-29T12:33:37.560964Z",
     "shell.execute_reply": "2022-12-29T12:33:37.559821Z"
    },
    "papermill": {
     "duration": 0.034317,
     "end_time": "2022-12-29T12:33:37.564133",
     "exception": false,
     "start_time": "2022-12-29T12:33:37.529816",
     "status": "completed"
    },
    "tags": []
   },
   "outputs": [
    {
     "data": {
      "text/html": [
       "<div>\n",
       "<style scoped>\n",
       "    .dataframe tbody tr th:only-of-type {\n",
       "        vertical-align: middle;\n",
       "    }\n",
       "\n",
       "    .dataframe tbody tr th {\n",
       "        vertical-align: top;\n",
       "    }\n",
       "\n",
       "    .dataframe thead th {\n",
       "        text-align: right;\n",
       "    }\n",
       "</style>\n",
       "<table border=\"1\" class=\"dataframe\">\n",
       "  <thead>\n",
       "    <tr style=\"text-align: right;\">\n",
       "      <th></th>\n",
       "      <th>PassengerId</th>\n",
       "      <th>Pclass</th>\n",
       "      <th>Name</th>\n",
       "      <th>Sex</th>\n",
       "      <th>Age</th>\n",
       "      <th>SibSp</th>\n",
       "      <th>Parch</th>\n",
       "      <th>Ticket</th>\n",
       "      <th>Fare</th>\n",
       "      <th>Cabin</th>\n",
       "      <th>Embarked</th>\n",
       "    </tr>\n",
       "  </thead>\n",
       "  <tbody>\n",
       "    <tr>\n",
       "      <th>0</th>\n",
       "      <td>892</td>\n",
       "      <td>3</td>\n",
       "      <td>Kelly, Mr. James</td>\n",
       "      <td>male</td>\n",
       "      <td>34.5</td>\n",
       "      <td>0</td>\n",
       "      <td>0</td>\n",
       "      <td>330911</td>\n",
       "      <td>7.8292</td>\n",
       "      <td>NaN</td>\n",
       "      <td>Q</td>\n",
       "    </tr>\n",
       "    <tr>\n",
       "      <th>1</th>\n",
       "      <td>893</td>\n",
       "      <td>3</td>\n",
       "      <td>Wilkes, Mrs. James (Ellen Needs)</td>\n",
       "      <td>female</td>\n",
       "      <td>47.0</td>\n",
       "      <td>1</td>\n",
       "      <td>0</td>\n",
       "      <td>363272</td>\n",
       "      <td>7.0000</td>\n",
       "      <td>NaN</td>\n",
       "      <td>S</td>\n",
       "    </tr>\n",
       "    <tr>\n",
       "      <th>2</th>\n",
       "      <td>894</td>\n",
       "      <td>2</td>\n",
       "      <td>Myles, Mr. Thomas Francis</td>\n",
       "      <td>male</td>\n",
       "      <td>62.0</td>\n",
       "      <td>0</td>\n",
       "      <td>0</td>\n",
       "      <td>240276</td>\n",
       "      <td>9.6875</td>\n",
       "      <td>NaN</td>\n",
       "      <td>Q</td>\n",
       "    </tr>\n",
       "    <tr>\n",
       "      <th>3</th>\n",
       "      <td>895</td>\n",
       "      <td>3</td>\n",
       "      <td>Wirz, Mr. Albert</td>\n",
       "      <td>male</td>\n",
       "      <td>27.0</td>\n",
       "      <td>0</td>\n",
       "      <td>0</td>\n",
       "      <td>315154</td>\n",
       "      <td>8.6625</td>\n",
       "      <td>NaN</td>\n",
       "      <td>S</td>\n",
       "    </tr>\n",
       "    <tr>\n",
       "      <th>4</th>\n",
       "      <td>896</td>\n",
       "      <td>3</td>\n",
       "      <td>Hirvonen, Mrs. Alexander (Helga E Lindqvist)</td>\n",
       "      <td>female</td>\n",
       "      <td>22.0</td>\n",
       "      <td>1</td>\n",
       "      <td>1</td>\n",
       "      <td>3101298</td>\n",
       "      <td>12.2875</td>\n",
       "      <td>NaN</td>\n",
       "      <td>S</td>\n",
       "    </tr>\n",
       "  </tbody>\n",
       "</table>\n",
       "</div>"
      ],
      "text/plain": [
       "   PassengerId  Pclass                                          Name     Sex  \\\n",
       "0          892       3                              Kelly, Mr. James    male   \n",
       "1          893       3              Wilkes, Mrs. James (Ellen Needs)  female   \n",
       "2          894       2                     Myles, Mr. Thomas Francis    male   \n",
       "3          895       3                              Wirz, Mr. Albert    male   \n",
       "4          896       3  Hirvonen, Mrs. Alexander (Helga E Lindqvist)  female   \n",
       "\n",
       "    Age  SibSp  Parch   Ticket     Fare Cabin Embarked  \n",
       "0  34.5      0      0   330911   7.8292   NaN        Q  \n",
       "1  47.0      1      0   363272   7.0000   NaN        S  \n",
       "2  62.0      0      0   240276   9.6875   NaN        Q  \n",
       "3  27.0      0      0   315154   8.6625   NaN        S  \n",
       "4  22.0      1      1  3101298  12.2875   NaN        S  "
      ]
     },
     "execution_count": 3,
     "metadata": {},
     "output_type": "execute_result"
    }
   ],
   "source": [
    "test_loc=\"/kaggle/input/titanic/test.csv\"\n",
    "test_data=pd.read_csv(test_loc)\n",
    "test_data.head()"
   ]
  },
  {
   "cell_type": "markdown",
   "id": "70f80a51",
   "metadata": {
    "papermill": {
     "duration": 0.004544,
     "end_time": "2022-12-29T12:33:37.575631",
     "exception": false,
     "start_time": "2022-12-29T12:33:37.571087",
     "status": "completed"
    },
    "tags": []
   },
   "source": [
    "**Now that we have uploaded the test and train data into the panda database, we need to make a ML Submission**"
   ]
  },
  {
   "cell_type": "code",
   "execution_count": 4,
   "id": "0054fcea",
   "metadata": {
    "execution": {
     "iopub.execute_input": "2022-12-29T12:33:37.587117Z",
     "iopub.status.busy": "2022-12-29T12:33:37.586683Z",
     "iopub.status.idle": "2022-12-29T12:33:38.919842Z",
     "shell.execute_reply": "2022-12-29T12:33:38.918567Z"
    },
    "papermill": {
     "duration": 1.342792,
     "end_time": "2022-12-29T12:33:38.923219",
     "exception": false,
     "start_time": "2022-12-29T12:33:37.580427",
     "status": "completed"
    },
    "tags": []
   },
   "outputs": [],
   "source": [
    "from xgboost import XGBClassifier"
   ]
  },
  {
   "cell_type": "markdown",
   "id": "22186bff",
   "metadata": {
    "papermill": {
     "duration": 0.004574,
     "end_time": "2022-12-29T12:33:38.933258",
     "exception": false,
     "start_time": "2022-12-29T12:33:38.928684",
     "status": "completed"
    },
    "tags": []
   },
   "source": [
    "XGBoost has been imported. We can now define a model using it along with personalized hyperparameters"
   ]
  },
  {
   "cell_type": "code",
   "execution_count": 5,
   "id": "b9f9278b",
   "metadata": {
    "execution": {
     "iopub.execute_input": "2022-12-29T12:33:38.946125Z",
     "iopub.status.busy": "2022-12-29T12:33:38.945294Z",
     "iopub.status.idle": "2022-12-29T12:33:38.950628Z",
     "shell.execute_reply": "2022-12-29T12:33:38.949768Z"
    },
    "papermill": {
     "duration": 0.014641,
     "end_time": "2022-12-29T12:33:38.953267",
     "exception": false,
     "start_time": "2022-12-29T12:33:38.938626",
     "status": "completed"
    },
    "tags": []
   },
   "outputs": [],
   "source": [
    "model=XGBClassifier(n_estimators=1000)"
   ]
  },
  {
   "cell_type": "markdown",
   "id": "3e89326c",
   "metadata": {
    "papermill": {
     "duration": 0.004539,
     "end_time": "2022-12-29T12:33:38.963267",
     "exception": false,
     "start_time": "2022-12-29T12:33:38.958728",
     "status": "completed"
    },
    "tags": []
   },
   "source": [
    "time to create target variables"
   ]
  },
  {
   "cell_type": "code",
   "execution_count": 6,
   "id": "6c8309e6",
   "metadata": {
    "execution": {
     "iopub.execute_input": "2022-12-29T12:33:38.975762Z",
     "iopub.status.busy": "2022-12-29T12:33:38.974836Z",
     "iopub.status.idle": "2022-12-29T12:33:39.003821Z",
     "shell.execute_reply": "2022-12-29T12:33:39.002765Z"
    },
    "papermill": {
     "duration": 0.038334,
     "end_time": "2022-12-29T12:33:39.006483",
     "exception": false,
     "start_time": "2022-12-29T12:33:38.968149",
     "status": "completed"
    },
    "tags": []
   },
   "outputs": [],
   "source": [
    "y=train_data[\"Survived\"]\n",
    "features = [\"Pclass\", \"Sex\", \"SibSp\", \"Parch\"]\n",
    "X = pd.get_dummies(train_data[features])\n",
    "X_test = pd.get_dummies(test_data[features])"
   ]
  },
  {
   "cell_type": "markdown",
   "id": "6f10faac",
   "metadata": {
    "papermill": {
     "duration": 0.005258,
     "end_time": "2022-12-29T12:33:39.016736",
     "exception": false,
     "start_time": "2022-12-29T12:33:39.011478",
     "status": "completed"
    },
    "tags": []
   },
   "source": [
    "fit and predicting XGBoost model along with creating a submission csv using Pandas"
   ]
  },
  {
   "cell_type": "code",
   "execution_count": 7,
   "id": "a5adb073",
   "metadata": {
    "execution": {
     "iopub.execute_input": "2022-12-29T12:33:39.029015Z",
     "iopub.status.busy": "2022-12-29T12:33:39.028136Z",
     "iopub.status.idle": "2022-12-29T12:33:41.772113Z",
     "shell.execute_reply": "2022-12-29T12:33:41.771082Z"
    },
    "papermill": {
     "duration": 2.753211,
     "end_time": "2022-12-29T12:33:41.774881",
     "exception": false,
     "start_time": "2022-12-29T12:33:39.021670",
     "status": "completed"
    },
    "tags": []
   },
   "outputs": [],
   "source": [
    "model.fit(X,y)\n",
    "predictions=model.predict(X_test)"
   ]
  },
  {
   "cell_type": "code",
   "execution_count": 8,
   "id": "f2afdbdf",
   "metadata": {
    "execution": {
     "iopub.execute_input": "2022-12-29T12:33:41.789505Z",
     "iopub.status.busy": "2022-12-29T12:33:41.789105Z",
     "iopub.status.idle": "2022-12-29T12:33:41.800592Z",
     "shell.execute_reply": "2022-12-29T12:33:41.798967Z"
    },
    "papermill": {
     "duration": 0.022528,
     "end_time": "2022-12-29T12:33:41.804724",
     "exception": false,
     "start_time": "2022-12-29T12:33:41.782196",
     "status": "completed"
    },
    "tags": []
   },
   "outputs": [
    {
     "name": "stdout",
     "output_type": "stream",
     "text": [
      "Your submission was successfully saved!\n"
     ]
    }
   ],
   "source": [
    "output = pd.DataFrame({'PassengerId': test_data.PassengerId, 'Survived': predictions})\n",
    "output.to_csv('submission.csv', index=False)\n",
    "print(\"Your submission was successfully saved!\")"
   ]
  },
  {
   "cell_type": "markdown",
   "id": "7d6e5eb8",
   "metadata": {
    "papermill": {
     "duration": 0.004659,
     "end_time": "2022-12-29T12:33:41.814496",
     "exception": false,
     "start_time": "2022-12-29T12:33:41.809837",
     "status": "completed"
    },
    "tags": []
   },
   "source": [
    "We have successfully completed a basic XGBoost model"
   ]
  },
  {
   "cell_type": "code",
   "execution_count": null,
   "id": "63a58893",
   "metadata": {
    "papermill": {
     "duration": 0.004516,
     "end_time": "2022-12-29T12:33:41.823921",
     "exception": false,
     "start_time": "2022-12-29T12:33:41.819405",
     "status": "completed"
    },
    "tags": []
   },
   "outputs": [],
   "source": []
  }
 ],
 "metadata": {
  "kernelspec": {
   "display_name": "Python 3",
   "language": "python",
   "name": "python3"
  },
  "language_info": {
   "codemirror_mode": {
    "name": "ipython",
    "version": 3
   },
   "file_extension": ".py",
   "mimetype": "text/x-python",
   "name": "python",
   "nbconvert_exporter": "python",
   "pygments_lexer": "ipython3",
   "version": "3.7.12"
  },
  "papermill": {
   "default_parameters": {},
   "duration": 14.279576,
   "end_time": "2022-12-29T12:33:42.650968",
   "environment_variables": {},
   "exception": null,
   "input_path": "__notebook__.ipynb",
   "output_path": "__notebook__.ipynb",
   "parameters": {},
   "start_time": "2022-12-29T12:33:28.371392",
   "version": "2.3.4"
  }
 },
 "nbformat": 4,
 "nbformat_minor": 5
}
